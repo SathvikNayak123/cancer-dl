{
 "cells": [
  {
   "cell_type": "code",
   "execution_count": 1,
   "metadata": {},
   "outputs": [],
   "source": [
    "import gdown\n",
    "url=\"https://drive.google.com/file/d/1NCkCS-Oflzt1nSFxqzNCp8ZhQ473BTNQ/view?usp=sharing\""
   ]
  },
  {
   "cell_type": "code",
   "execution_count": 4,
   "metadata": {},
   "outputs": [],
   "source": [
    "file_id=url.split(\"/\")[-2]"
   ]
  },
  {
   "cell_type": "code",
   "execution_count": 5,
   "metadata": {},
   "outputs": [
    {
     "name": "stderr",
     "output_type": "stream",
     "text": [
      "Downloading...\n",
      "From (original): https://drive.google.com/uc?/export=downloads&id=1NCkCS-Oflzt1nSFxqzNCp8ZhQ473BTNQ\n",
      "From (redirected): https://drive.google.com/uc?%2Fexport=downloads&id=1NCkCS-Oflzt1nSFxqzNCp8ZhQ473BTNQ&confirm=t&uuid=30e59721-6ea0-4859-89d2-9ad30bb34426\n",
      "To: c:\\Users\\sathv\\Desktop\\cancer-dl\\research\\cancer-dataset.zip\n",
      "100%|██████████| 65.6M/65.6M [00:10<00:00, 6.31MB/s]\n"
     ]
    },
    {
     "data": {
      "text/plain": [
       "'cancer-dataset.zip'"
      ]
     },
     "execution_count": 5,
     "metadata": {},
     "output_type": "execute_result"
    }
   ],
   "source": [
    "prefix=\"https://drive.google.com/uc?/export=downloads&id=\"\n",
    "gdown.download(prefix+file_id, \"cancer-dataset.zip\")"
   ]
  },
  {
   "cell_type": "code",
   "execution_count": null,
   "metadata": {},
   "outputs": [],
   "source": []
  }
 ],
 "metadata": {
  "kernelspec": {
   "display_name": "myenv",
   "language": "python",
   "name": "python3"
  },
  "language_info": {
   "codemirror_mode": {
    "name": "ipython",
    "version": 3
   },
   "file_extension": ".py",
   "mimetype": "text/x-python",
   "name": "python",
   "nbconvert_exporter": "python",
   "pygments_lexer": "ipython3",
   "version": "3.10.14"
  }
 },
 "nbformat": 4,
 "nbformat_minor": 2
}
